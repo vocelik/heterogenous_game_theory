{
 "cells": [
  {
   "cell_type": "code",
   "execution_count": null,
   "metadata": {},
   "outputs": [
    {
     "data": {
      "text/html": [
       "<style>.container { width:90% !important; }</style>"
      ],
      "text/plain": [
       "<IPython.core.display.HTML object>"
      ]
     },
     "metadata": {},
     "output_type": "display_data"
    },
    {
     "name": "stdout",
     "output_type": "stream",
     "text": [
      "AGENT PARAMETERS IN POPULATION\n",
      "-------------------------------------\n",
      "   M \t\t  D \t\t  R\n",
      "-------------------------------------\n",
      "| 6.0 \t\t 0.05 \t\t 0.22 |\n",
      "| 0.5 \t\t 0.24 \t\t 0.55 |\n",
      "| 4.4 \t\t 0.48 \t\t 0.01 |\n",
      "| 2.3 \t\t 0.74 \t\t 0.55 |\n",
      "| 3.6 \t\t 0.5 \t\t 0.84 |\n",
      "| 2.5 \t\t 0.91 \t\t 0.19 |\n",
      "| 9.8 \t\t 0.38 \t\t 0.37 |\n",
      "| 2.5 \t\t 0.85 \t\t 0.42 |\n",
      "| 5.4 \t\t 0.12 \t\t 0.57 |\n",
      "| 8.4 \t\t 0.14 \t\t 0.2 |\n",
      "| 3.9 \t\t 0.16 \t\t 0.47 |\n",
      "| 1.6 \t\t 0.41 \t\t 0.92 |\n",
      "| 1.6 \t\t 0.38 \t\t 0.0 |\n",
      "| 6.6 \t\t 0.79 \t\t 0.91 |\n",
      "| 9.0 \t\t 0.83 \t\t 0.26 |\n",
      "| 1.5 \t\t 0.58 \t\t 0.5 |\n",
      "| 5.3 \t\t 0.33 \t\t 0.41 |\n",
      "| 9.5 \t\t 0.1 \t\t 0.24 |\n",
      "| 6.9 \t\t 0.84 \t\t 0.57 |\n",
      "-------------------------------------\n",
      "The s.d. of M is: 2.72\n",
      "The s.d. of D is: 0.3\n",
      "The s.d. of R is: 0.29\n",
      "-------------------------------------\n",
      "The mean of M is: 5.41\n",
      "The mean of D is: 0.51\n",
      "The mean of R is: 0.5\n",
      "-------------------------------------\n"
     ]
    },
    {
     "data": {
      "image/png": "[encoded data removed]",
      "text/plain": [
       "<Figure size 2160x720 with 3 Axes>"
      ]
     },
     "metadata": {},
     "output_type": "display_data"
    },
    {
     "name": "stdout",
     "output_type": "stream",
     "text": [
      "____________________________________________________________________________________________________\n",
      "Agent 0 playing Agent 1: Reward: 0.1, Temptation: 0.2, Sucker: 0, Punishment: 0.1\n",
      "Agent 1 playing Agent 0: Reward: 4.7, Temptation: 8.0, Sucker: 0, Punishment: 3.3\n",
      "____________________________________________________________________________________________________\n",
      "Agent 0 playing Agent 2: Reward: 1.2, Temptation: 2.2, Sucker: 0, Punishment: 1.0\n",
      "Agent 2 playing Agent 0: Reward: 2.9, Temptation: 3.0, Sucker: 0, Punishment: 0.1\n",
      "____________________________________________________________________________________________________\n",
      "Agent 0 playing Agent 3: Reward: 0.6, Temptation: 1.1, Sucker: 0, Punishment: 0.5\n",
      "Agent 3 playing Agent 0: Reward: 7.7, Temptation: 11.0, Sucker: 0, Punishment: 3.3\n",
      "____________________________________________________________________________________________________\n",
      "Agent 0 playing Agent 4: Reward: 1.0, Temptation: 1.8, Sucker: 0, Punishment: 0.8\n",
      "Agent 4 playing Agent 0: Reward: 8.0, Temptation: 13.1, Sucker: 0, Punishment: 5.0\n",
      "____________________________________________________________________________________________________\n",
      "Agent 1 playing Agent 2: Reward: 3.5, Temptation: 5.9, Sucker: 0, Punishment: 2.4\n",
      "Agent 2 playing Agent 1: Reward: 0.2, Temptation: 0.2, Sucker: 0, Punishment: 0.0\n",
      "____________________________________________________________________________________________________\n",
      "Agent 1 playing Agent 3: Reward: 1.8, Temptation: 3.1, Sucker: 0, Punishment: 1.3\n",
      "Agent 3 playing Agent 1: Reward: 0.6, Temptation: 0.9, Sucker: 0, Punishment: 0.3\n",
      "____________________________________________________________________________________________________\n",
      "Agent 1 playing Agent 4: Reward: 2.8, Temptation: 4.8, Sucker: 0, Punishment: 2.0\n",
      "Agent 4 playing Agent 1: Reward: 0.7, Temptation: 1.1, Sucker: 0, Punishment: 0.4\n",
      "____________________________________________________________________________________________________\n",
      "Agent 2 playing Agent 3: Reward: 1.1, Temptation: 1.2, Sucker: 0, Punishment: 0.0\n",
      "Agent 3 playing Agent 2: Reward: 5.7, Temptation: 8.1, Sucker: 0, Punishment: 2.4\n",
      "____________________________________________________________________________________________________\n",
      "Agent 2 playing Agent 4: Reward: 1.8, Temptation: 1.8, Sucker: 0, Punishment: 0.0\n",
      "Agent 4 playing Agent 2: Reward: 5.9, Temptation: 9.6, Sucker: 0, Punishment: 3.7\n",
      "____________________________________________________________________________________________________\n",
      "Agent 3 playing Agent 4: Reward: 4.6, Temptation: 6.6, Sucker: 0, Punishment: 2.0\n",
      "Agent 4 playing Agent 3: Reward: 3.1, Temptation: 5.0, Sucker: 0, Punishment: 1.9\n",
      "\n",
      "All players are playing a prisoners dilemma\n",
      "Tournament has started...\n",
      "Tournament has ended. The simulation took 46 minutes.\n",
      "    S.D.  Counts\n",
      "0    0.5     249\n",
      "1    0.6     235\n",
      "2    0.7     214\n",
      "3    0.8     217\n",
      "4    0.9     196\n",
      "5    1.0     182\n",
      "6    1.1     175\n",
      "7    1.2     141\n",
      "8    1.3     121\n",
      "9    1.4     109\n",
      "10   1.5     119\n",
      "11   1.6     110\n",
      "12   1.7      90\n",
      "13   1.8      68\n",
      "14   1.9      53\n",
      "15   2.0      38\n",
      "16   2.1      18\n",
      "17   2.2      13\n",
      "18   2.3       4\n",
      "19   2.4       1\n",
      "20   2.5       1\n",
      "21   2.6       0\n",
      "22   2.7       0\n",
      "23   2.8       0\n",
      "24   2.9       0\n",
      "25   3.0       0\n"
     ]
    }
   ],
   "source": [
    "import sys\n",
    "sys.path.insert(1, '../')\n",
    "from heterogenous_game_theory import *\n",
    "import numpy as np\n",
    "import matplotlib.pyplot as plt\n",
    "import scipy as sp\n",
    "%matplotlib inline\n",
    "from IPython.core.display import display, HTML\n",
    "display(HTML(\"<style>.container { width:90% !important; }</style>\"))\n",
    "plt.style.use('fivethirtyeight')\n",
    "seed = 256\n",
    "np.random.seed(seed)\n",
    "\n",
    "tour_type = \"hetero_mdr_sd_max\"\n",
    "M = [5, 12.5]\n",
    "R = [0.4, 1.25]\n",
    "D = [0.3, 1.25]\n",
    "\n",
    "agents = get_agents(homogenous = False, M = M, R = R, D = D)\n",
    "check_parameters(agents)\n",
    "compare_payoff_function(agents, default_payoff_functions)\n",
    "\n",
    "tour = Tournament.create_play_tournament(\n",
    "                 agents = agents, \n",
    "                 max_rounds = 10000, \n",
    "                 strategy_list = [defect, tit_for_tat, generous_tit_for_tat, cooperate], \n",
    "                 payoff_functions = default_payoff_functions, \n",
    "                 surveillance_penalty = True,\n",
    "                 self_reward = selfreward, #default function\n",
    "                 playing_each_other = True,\n",
    "                 nr_strategy_changes = 10,\n",
    "                 mutation_rate = 0.1,\n",
    "                 init_fitnes_as_m = False,\n",
    "                 noise = 0.05,\n",
    "                 )\n",
    "draw_stack(tour)\n",
    "C_D_ratios_per_round_var(tour, constant = 1)\n",
    "outliers = count_outliers(tour, constants = np.arange(0.5, 3.1, 0.1))\n",
    "data = {'S.D.': list(outliers.keys()), 'Counts': list(outliers.values())}\n",
    "df = pd.DataFrame.from_dict(data)\n",
    "print(df)\n",
    "df.to_csv(\"data/outliers/\" + str(seed) + \"_outlier_counts.csv\", encoding='utf-8', index = False, float_format='%.1f')\n",
    "save_tournament_csv(tour, seed = str(seed), tour_type = tour_type)"
   ]
  },
  {
   "cell_type": "code",
   "execution_count": null,
   "metadata": {},
   "outputs": [],
   "source": []
  }
 ],
 "metadata": {
  "kernelspec": {
   "display_name": "Python 3",
   "language": "python",
   "name": "python3"
  },
  "language_info": {
   "codemirror_mode": {
    "name": "ipython",
    "version": 3
   },
   "file_extension": ".py",
   "mimetype": "text/x-python",
   "name": "python",
   "nbconvert_exporter": "python",
   "pygments_lexer": "ipython3",
   "version": "3.7.3"
  }
 },
 "nbformat": 4,
 "nbformat_minor": 2
}
