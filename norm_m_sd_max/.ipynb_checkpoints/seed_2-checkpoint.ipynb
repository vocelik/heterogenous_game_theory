{
 "cells": [
  {
   "cell_type": "code",
   "execution_count": null,
   "metadata": {},
   "outputs": [
    {
     "data": {
      "text/html": [
       "<style>.container { width:90% !important; }</style>"
      ],
      "text/plain": [
       "<IPython.core.display.HTML object>"
      ]
     },
     "metadata": {},
     "output_type": "display_data"
    },
    {
     "name": "stdout",
     "output_type": "stream",
     "text": [
      "AGENT PARAMETERS IN POPULATION\n",
      "-------------------------------------\n",
      "   M \t\t  D \t\t  R\n",
      "-------------------------------------\n",
      "| 9.05 \t\t 0.3 \t\t 0.4 |\n",
      "| 4.14 \t\t 0.3 \t\t 0.4 |\n",
      "| 0.66 \t\t 0.3 \t\t 0.4 |\n",
      "| 7.85 \t\t 0.3 \t\t 0.4 |\n",
      "| 8.07 \t\t 0.3 \t\t 0.4 |\n",
      "| 7.51 \t\t 0.3 \t\t 0.4 |\n",
      "| 8.23 \t\t 0.3 \t\t 0.4 |\n",
      "| 4.45 \t\t 0.3 \t\t 0.4 |\n",
      "| 6.12 \t\t 0.3 \t\t 0.4 |\n",
      "| 6.93 \t\t 0.3 \t\t 0.4 |\n",
      "| 6.46 \t\t 0.3 \t\t 0.4 |\n",
      "| 9.17 \t\t 0.3 \t\t 0.4 |\n",
      "| 8.85 \t\t 0.3 \t\t 0.4 |\n",
      "| 4.09 \t\t 0.3 \t\t 0.4 |\n",
      "| 4.96 \t\t 0.3 \t\t 0.4 |\n",
      "| 7.44 \t\t 0.3 \t\t 0.4 |\n",
      "| 9.0 \t\t 0.3 \t\t 0.4 |\n",
      "| 7.42 \t\t 0.3 \t\t 0.4 |\n",
      "| 2.2 \t\t 0.3 \t\t 0.4 |\n",
      "-------------------------------------\n",
      "The s.d. of M is: 2.72\n",
      "The s.d. of D is: 0.0\n",
      "The s.d. of R is: 0.0\n",
      "-------------------------------------\n",
      "The mean of M is: 5.5\n",
      "The mean of D is: 0.4\n",
      "The mean of R is: 0.3\n",
      "-------------------------------------\n"
     ]
    },
    {
     "data": {
      "image/png": "[encoded data removed]",
      "text/plain": [
       "<Figure size 2160x720 with 3 Axes>"
      ]
     },
     "metadata": {},
     "output_type": "display_data"
    },
    {
     "name": "stdout",
     "output_type": "stream",
     "text": [
      "____________________________________________________________________________________________________\n",
      "Agent 0 playing Agent 1: Reward: 2.9, Temptation: 4.6, Sucker: 0, Punishment: 1.7\n",
      "Agent 1 playing Agent 0: Reward: 6.3, Temptation: 10.0, Sucker: 0, Punishment: 3.6\n",
      "____________________________________________________________________________________________________\n",
      "Agent 0 playing Agent 2: Reward: 0.5, Temptation: 0.7, Sucker: 0, Punishment: 0.3\n",
      "Agent 2 playing Agent 0: Reward: 6.3, Temptation: 10.0, Sucker: 0, Punishment: 3.6\n",
      "____________________________________________________________________________________________________\n",
      "Agent 0 playing Agent 3: Reward: 5.5, Temptation: 8.6, Sucker: 0, Punishment: 3.1\n",
      "Agent 3 playing Agent 0: Reward: 6.3, Temptation: 10.0, Sucker: 0, Punishment: 3.6\n",
      "____________________________________________________________________________________________________\n",
      "Agent 0 playing Agent 4: Reward: 5.6, Temptation: 8.9, Sucker: 0, Punishment: 3.2\n",
      "Agent 4 playing Agent 0: Reward: 6.3, Temptation: 10.0, Sucker: 0, Punishment: 3.6\n",
      "____________________________________________________________________________________________________\n",
      "Agent 1 playing Agent 2: Reward: 0.5, Temptation: 0.7, Sucker: 0, Punishment: 0.3\n",
      "Agent 2 playing Agent 1: Reward: 2.9, Temptation: 4.6, Sucker: 0, Punishment: 1.7\n",
      "____________________________________________________________________________________________________\n",
      "Agent 1 playing Agent 3: Reward: 5.5, Temptation: 8.6, Sucker: 0, Punishment: 3.1\n",
      "Agent 3 playing Agent 1: Reward: 2.9, Temptation: 4.6, Sucker: 0, Punishment: 1.7\n",
      "____________________________________________________________________________________________________\n",
      "Agent 1 playing Agent 4: Reward: 5.6, Temptation: 8.9, Sucker: 0, Punishment: 3.2\n",
      "Agent 4 playing Agent 1: Reward: 2.9, Temptation: 4.6, Sucker: 0, Punishment: 1.7\n",
      "____________________________________________________________________________________________________\n",
      "Agent 2 playing Agent 3: Reward: 5.5, Temptation: 8.6, Sucker: 0, Punishment: 3.1\n",
      "Agent 3 playing Agent 2: Reward: 0.5, Temptation: 0.7, Sucker: 0, Punishment: 0.3\n",
      "____________________________________________________________________________________________________\n",
      "Agent 2 playing Agent 4: Reward: 5.6, Temptation: 8.9, Sucker: 0, Punishment: 3.2\n",
      "Agent 4 playing Agent 2: Reward: 0.5, Temptation: 0.7, Sucker: 0, Punishment: 0.3\n",
      "____________________________________________________________________________________________________\n",
      "Agent 3 playing Agent 4: Reward: 5.6, Temptation: 8.9, Sucker: 0, Punishment: 3.2\n",
      "Agent 4 playing Agent 3: Reward: 5.5, Temptation: 8.6, Sucker: 0, Punishment: 3.1\n",
      "\n",
      "All players are playing a prisoners dilemma\n",
      "Tournament has started...\n",
      "-"
     ]
    }
   ],
   "source": [
    "# interesting occurrence in this seed: not all players play a prisoner's dilemma if T>R>P>S, but are if T>=R>=P>=S\n",
    "import sys\n",
    "sys.path.insert(1, '../')\n",
    "from heterogenous_game_theory import *\n",
    "import numpy as np\n",
    "import matplotlib.pyplot as plt\n",
    "import scipy as sp\n",
    "%matplotlib inline\n",
    "from IPython.core.display import display, HTML\n",
    "display(HTML(\"<style>.container { width:90% !important; }</style>\"))\n",
    "plt.style.use('fivethirtyeight')\n",
    "seed = 2\n",
    "np.random.seed(seed)\n",
    "\n",
    "tour_type = \"hetero_m_sd_max\"\n",
    "M = [5, 12.5]\n",
    "R = [0.4, 1/10000]\n",
    "D = [0.3, 1/10000]\n",
    "\n",
    "agents = get_agents(homogenous = False, M = M, R = R, D = D)\n",
    "check_parameters(agents)\n",
    "compare_payoff_function(agents, default_payoff_functions)\n",
    "\n",
    "tour = Tournament.create_play_tournament(\n",
    "                 agents = agents, \n",
    "                 max_rounds = 10000, \n",
    "                 strategy_list = [defect, tit_for_tat, generous_tit_for_tat, cooperate], \n",
    "                 payoff_functions = default_payoff_functions, \n",
    "                 surveillance_penalty = True,\n",
    "                 self_reward = selfreward, #default function\n",
    "                 playing_each_other = True,\n",
    "                 nr_strategy_changes = 10,\n",
    "                 mutation_rate = 0.1,\n",
    "                 init_fitnes_as_m = False,\n",
    "                 noise = 0.05,\n",
    "                 )\n",
    "draw_stack(tour)\n",
    "C_D_ratios_per_round_var(tour, constant = 1)\n",
    "outliers = count_outliers(tour, constants = np.arange(0.5, 3.1, 0.1))\n",
    "data = {'S.D.': list(outliers.keys()), 'Counts': list(outliers.values())}\n",
    "df = pd.DataFrame.from_dict(data)\n",
    "print(df)\n",
    "df.to_csv(\"data/outliers/\" + str(seed) + \"_outlier_counts.csv\", encoding='utf-8', index = False, float_format='%.1f')\n",
    "save_tournament_csv(tour, seed = str(seed))"
   ]
  },
  {
   "cell_type": "code",
   "execution_count": null,
   "metadata": {},
   "outputs": [],
   "source": []
  }
 ],
 "metadata": {
  "kernelspec": {
   "display_name": "Python 3",
   "language": "python",
   "name": "python3"
  },
  "language_info": {
   "codemirror_mode": {
    "name": "ipython",
    "version": 3
   },
   "file_extension": ".py",
   "mimetype": "text/x-python",
   "name": "python",
   "nbconvert_exporter": "python",
   "pygments_lexer": "ipython3",
   "version": "3.7.3"
  }
 },
 "nbformat": 4,
 "nbformat_minor": 2
}
