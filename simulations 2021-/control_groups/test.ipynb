{
 "cells": [
  {
   "cell_type": "code",
   "execution_count": 2,
   "metadata": {},
   "outputs": [
    {
     "name": "stdout",
     "output_type": "stream",
     "text": [
      "Tournament has started...\n",
      "Tournament has ended. The simulation took 0 minutes.\n"
     ]
    }
   ],
   "source": [
    "import sys\n",
    "sys.path.insert(1, '../../')\n",
    "from heterogenous_game_theory import *\n",
    "\n",
    "seed = 4\n",
    "np.random.seed(seed)\n",
    "game_type = \"norm_mdr_max\"\n",
    "\n",
    "agents = get_agents(game_type = game_type)\n",
    "\n",
    "tour = Tournament.create_play_tournament(\n",
    "                 agents = agents, \n",
    "                 max_rounds = 10, \n",
    "                 strategy_list = [defect, tit_for_tat,tit_for_two_tats], \n",
    "                 payoff_functions = default_payoff_functions, \n",
    "                 surveillance_penalty = True,\n",
    "                 self_reward = None, \n",
    "                 playing_each_other = True,\n",
    "                 nr_strategy_changes = 1,\n",
    "                 mutation_rate = 0.1,\n",
    "                 init_fitnes_as_m = False,\n",
    "                 noise = 0.05,\n",
    "                 )\n",
    "#save_results(tour, seed)"
   ]
  },
  {
   "cell_type": "code",
   "execution_count": 3,
   "metadata": {},
   "outputs": [
    {
     "name": "stdout",
     "output_type": "stream",
     "text": [
      "7.8 0.43 0.87\n",
      "8.4 0.85 0.95\n",
      "4.2 0.91 0.71\n",
      "2.2 0.67 0.77\n",
      "8.0 0.18 0.98\n",
      "9.5 0.43 0.92\n",
      "6.3 0.27 0.22\n",
      "7.7 0.15 0.43\n",
      "8.9 0.91 0.01\n",
      "7.4 0.22 0.03\n",
      "4.2 0.84 0.8\n",
      "2.7 0.4 0.9\n",
      "6.2 0.67 0.41\n",
      "0.8 0.2 0.37\n",
      "4.1 0.55 0.15\n",
      "3.2 0.69 0.26\n",
      "5.4 0.48 0.71\n",
      "7.5 0.42 0.96\n",
      "7.7 0.42 0.53\n",
      "5.1 0.86 0.83\n",
      "2.3 0.77 0.07\n",
      "6.3 0.45 0.06\n",
      "1.5 0.79 0.59\n",
      "4.9 0.7 0.73\n",
      "9.9 0.22 0.38\n",
      "5.7 0.52 0.25\n",
      "6.8 0.07 0.26\n",
      "5.4 0.1 0.77\n",
      "5.7 0.71 0.35\n",
      "4.6 0.06 0.36\n",
      "3.0 0.82 0.88\n",
      "8.5 0.39 0.71\n",
      "5.4 0.77 0.91\n",
      "9.4 0.27 0.87\n",
      "5.6 0.99 0.66\n",
      "5.8 0.89 0.19\n",
      "4.2 0.9 0.17\n",
      "2.3 0.95 0.83\n",
      "8.4 0.49 0.68\n",
      "0.4 0.44 0.26\n",
      "5.1 0.32 0.82\n",
      "2.3 1.0 0.53\n",
      "5.3 0.31 0.69\n",
      "2.4 0.13 0.38\n",
      "5.1 0.16 0.22\n",
      "2.9 0.07 0.15\n",
      "6.7 0.02 0.6\n",
      "9.1 0.04 0.85\n",
      "8.4 0.16 0.15\n",
      "4.8 0.11 0.18\n",
      "4.6 0.96 0.47\n",
      "5.3 0.69 0.47\n",
      "5.9 0.45 0.28\n",
      "6.9 0.37 0.17\n",
      "2.4 0.83 0.22\n",
      "2.1 0.54 0.18\n",
      "0.3 0.06 0.89\n",
      "5.2 0.83 1.0\n",
      "1.1 0.43 0.5\n",
      "4.3 0.66 0.09\n",
      "6.4 0.91 0.5\n",
      "2.7 0.04 0.54\n",
      "4.9 0.85 0.63\n",
      "5.8 0.53 0.62\n",
      "8.0 0.2 0.07\n",
      "1.7 0.06 0.96\n",
      "3.1 0.65 0.45\n",
      "4.4 0.3 0.39\n",
      "9.2 0.99 0.24\n",
      "7.2 0.06 0.84\n",
      "4.3 0.35 0.5\n",
      "3.4 0.26 0.42\n",
      "7.4 0.96 0.2\n",
      "9.4 0.18 0.18\n",
      "3.0 0.49 0.55\n",
      "0.3 0.12 0.97\n",
      "1.9 0.43 0.32\n",
      "5.8 0.33 0.16\n",
      "0.8 0.56 0.32\n",
      "7.1 0.17 0.58\n",
      "5.1 0.07 0.94\n",
      "5.8 0.35 0.26\n",
      "8.9 0.7 0.31\n",
      "7.4 0.38 0.24\n",
      "1.8 0.7 0.7\n",
      "4.4 0.65 0.02\n",
      "5.4 0.25 0.03\n",
      "6.1 0.72 0.76\n",
      "6.8 0.33 0.53\n",
      "6.4 0.14 0.97\n",
      "8.9 0.87 0.08\n",
      "4.8 0.61 0.33\n",
      "7.6 0.05 0.77\n",
      "6.6 0.88 0.24\n",
      "0.7 0.54 0.53\n",
      "5.8 0.17 0.96\n",
      "0.9 0.39 0.07\n",
      "6.3 0.94 0.74\n",
      "1.4 1.0 0.08\n",
      "2.7 0.03 0.46\n"
     ]
    }
   ],
   "source": [
    "for agent in agents:\n",
    "    print(agent.m,agent.d,agent.r)"
   ]
  },
  {
   "cell_type": "code",
   "execution_count": 2,
   "metadata": {},
   "outputs": [
    {
     "data": {
      "text/plain": [
       "{'homogenous': {'D': [0.4, 0.0001], 'M': [5, 0.0001], 'R': [0.3, 0.0001]},\n",
       " 'norm_dr_max': {'D': [0.4, 1.25], 'M': [5, 0.0001], 'R': [0.3, 1.25]},\n",
       " 'norm_m_max': {'D': [0.4, 0.0001], 'M': [5, 12.5], 'R': [0.3, 0.0001]},\n",
       " 'norm_mdr_max': {'D': [0.4, 1.25], 'M': [5, 12.5], 'R': [0.3, 1.25]},\n",
       " 'pareto_dr_max': {'D': ['power', 0.15, 1],\n",
       "  'M': [5, 0.0001],\n",
       "  'R': ['power', 0.2, 1]},\n",
       " 'pareto_m_max': {'D': [0.4, 0.0001],\n",
       "  'M': ['power', 2.5, 1],\n",
       "  'R': [0.3, 0.0001]},\n",
       " 'pareto_mdr_max': {'D': ['power', 0.15, 1],\n",
       "  'M': ['power', 2.5, 1],\n",
       "  'R': ['power', 0.2, 1]}}"
      ]
     },
     "execution_count": 2,
     "metadata": {},
     "output_type": "execute_result"
    }
   ],
   "source": [
    "game_types"
   ]
  },
  {
   "cell_type": "code",
   "execution_count": 8,
   "metadata": {},
   "outputs": [
    {
     "data": {
      "text/plain": [
       "[5, 12.5]"
      ]
     },
     "execution_count": 8,
     "metadata": {},
     "output_type": "execute_result"
    }
   ],
   "source": [
    "game_types['norm_mdr_max']['M']"
   ]
  },
  {
   "cell_type": "code",
   "execution_count": 6,
   "metadata": {},
   "outputs": [
    {
     "data": {
      "text/plain": [
       "{'D': ['power', 0.15, 1], 'M': ['power', 2.5, 1], 'R': ['power', 0.2, 1]}"
      ]
     },
     "execution_count": 6,
     "metadata": {},
     "output_type": "execute_result"
    }
   ],
   "source": [
    "game_types['pareto_mdr_max']"
   ]
  },
  {
   "cell_type": "code",
   "execution_count": 4,
   "metadata": {},
   "outputs": [
    {
     "data": {
      "text/plain": [
       "False"
      ]
     },
     "execution_count": 4,
     "metadata": {},
     "output_type": "execute_result"
    }
   ],
   "source": [
    "'r' in game_types.keys()"
   ]
  },
  {
   "cell_type": "code",
   "execution_count": null,
   "metadata": {},
   "outputs": [],
   "source": []
  }
 ],
 "metadata": {
  "kernelspec": {
   "display_name": "Python 3",
   "language": "python",
   "name": "python3"
  },
  "language_info": {
   "codemirror_mode": {
    "name": "ipython",
    "version": 3
   },
   "file_extension": ".py",
   "mimetype": "text/x-python",
   "name": "python",
   "nbconvert_exporter": "python",
   "pygments_lexer": "ipython3",
   "version": "3.7.3"
  }
 },
 "nbformat": 4,
 "nbformat_minor": 2
}
