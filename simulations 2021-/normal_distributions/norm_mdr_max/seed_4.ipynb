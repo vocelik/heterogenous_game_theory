{
 "cells": [
  {
   "cell_type": "code",
   "execution_count": 1,
   "metadata": {},
   "outputs": [
    {
     "ename": "AssertionError",
     "evalue": "temptation was not greater than reward for agent-combination 8 and 13. Reward is 9.64 and Temptation is 9.64",
     "output_type": "error",
     "traceback": [
      "\u001b[0;31m---------------------------------------------------------------------------\u001b[0m",
      "\u001b[0;31mAssertionError\u001b[0m                            Traceback (most recent call last)",
      "\u001b[0;32m<ipython-input-1-e246aecf8a4f>\u001b[0m in \u001b[0;36m<module>\u001b[0;34m()\u001b[0m\n\u001b[1;32m     22\u001b[0m                  \u001b[0mmutation_rate\u001b[0m \u001b[1;33m=\u001b[0m \u001b[1;36m0.1\u001b[0m\u001b[1;33m,\u001b[0m\u001b[1;33m\u001b[0m\u001b[1;33m\u001b[0m\u001b[0m\n\u001b[1;32m     23\u001b[0m                  \u001b[0minit_fitnes_as_m\u001b[0m \u001b[1;33m=\u001b[0m \u001b[1;32mFalse\u001b[0m\u001b[1;33m,\u001b[0m\u001b[1;33m\u001b[0m\u001b[1;33m\u001b[0m\u001b[0m\n\u001b[0;32m---> 24\u001b[0;31m                  \u001b[0mnoise\u001b[0m \u001b[1;33m=\u001b[0m \u001b[1;36m0.05\u001b[0m\u001b[1;33m,\u001b[0m\u001b[1;33m\u001b[0m\u001b[1;33m\u001b[0m\u001b[0m\n\u001b[0m\u001b[1;32m     25\u001b[0m                  )\n\u001b[1;32m     26\u001b[0m \u001b[0msave_results\u001b[0m\u001b[1;33m(\u001b[0m\u001b[0mtour\u001b[0m\u001b[1;33m,\u001b[0m \u001b[0mseed\u001b[0m\u001b[1;33m)\u001b[0m\u001b[1;33m\u001b[0m\u001b[1;33m\u001b[0m\u001b[0m\n",
      "\u001b[0;32mC:\\Users\\vocelik\\Documents\\projects\\heterogenous_game_theory\\heterogenous_game_theory\\tournament.py\u001b[0m in \u001b[0;36mcreate_play_tournament\u001b[0;34m(cls, agents, max_rounds, strategy_list, payoff_functions, surveillance_penalty, self_reward, playing_each_other, nr_strategy_changes, mutation_rate, init_fitnes_as_m, noise)\u001b[0m\n\u001b[1;32m    439\u001b[0m                  \u001b[0mpayoff_functions\u001b[0m\u001b[1;33m=\u001b[0m\u001b[0mpayoff_functions\u001b[0m\u001b[1;33m,\u001b[0m \u001b[1;31m# rewards that agents get, defaults to the functions described in the paper.\u001b[0m\u001b[1;33m\u001b[0m\u001b[1;33m\u001b[0m\u001b[0m\n\u001b[1;32m    440\u001b[0m                  \u001b[0msurveillance_penalty\u001b[0m \u001b[1;33m=\u001b[0m \u001b[0msurveillance_penalty\u001b[0m\u001b[1;33m,\u001b[0m\u001b[1;33m\u001b[0m\u001b[1;33m\u001b[0m\u001b[0m\n\u001b[0;32m--> 441\u001b[0;31m                  \u001b[0mnoise\u001b[0m\u001b[1;33m=\u001b[0m\u001b[0mnoise\u001b[0m\u001b[1;33m\u001b[0m\u001b[1;33m\u001b[0m\u001b[0m\n\u001b[0m\u001b[1;32m    442\u001b[0m                  )\n\u001b[1;32m    443\u001b[0m         \u001b[0mtournament\u001b[0m\u001b[1;33m.\u001b[0m\u001b[0minit_strategies\u001b[0m\u001b[1;33m(\u001b[0m\u001b[1;33m)\u001b[0m\u001b[1;33m\u001b[0m\u001b[1;33m\u001b[0m\u001b[0m\n",
      "\u001b[0;32mC:\\Users\\vocelik\\Documents\\projects\\heterogenous_game_theory\\heterogenous_game_theory\\tournament.py\u001b[0m in \u001b[0;36m__init__\u001b[0;34m(self, agents, max_rounds, strategy_list, payoff_functions, surveillance_penalty, penalty_dict, noise)\u001b[0m\n\u001b[1;32m     39\u001b[0m \u001b[1;33m\u001b[0m\u001b[0m\n\u001b[1;32m     40\u001b[0m         \u001b[1;31m# Data from the simulations will be stored in an NetworkX-graph\u001b[0m\u001b[1;33m\u001b[0m\u001b[1;33m\u001b[0m\u001b[1;33m\u001b[0m\u001b[0m\n\u001b[0;32m---> 41\u001b[0;31m         \u001b[0mself\u001b[0m\u001b[1;33m.\u001b[0m\u001b[0mgraph\u001b[0m \u001b[1;33m=\u001b[0m \u001b[0mself\u001b[0m\u001b[1;33m.\u001b[0m\u001b[0minit_graph\u001b[0m\u001b[1;33m(\u001b[0m\u001b[0magents\u001b[0m\u001b[1;33m,\u001b[0m \u001b[0mself\u001b[0m\u001b[1;33m.\u001b[0m\u001b[0mpayoff_functions\u001b[0m\u001b[1;33m)\u001b[0m\u001b[1;33m\u001b[0m\u001b[1;33m\u001b[0m\u001b[0m\n\u001b[0m\u001b[1;32m     42\u001b[0m \u001b[1;33m\u001b[0m\u001b[0m\n\u001b[1;32m     43\u001b[0m         \u001b[1;31m# results of a the simulations\u001b[0m\u001b[1;33m\u001b[0m\u001b[1;33m\u001b[0m\u001b[1;33m\u001b[0m\u001b[0m\n",
      "\u001b[0;32mC:\\Users\\vocelik\\Documents\\projects\\heterogenous_game_theory\\heterogenous_game_theory\\tournament.py\u001b[0m in \u001b[0;36minit_graph\u001b[0;34m(agents, payoff_functions)\u001b[0m\n\u001b[1;32m     85\u001b[0m \u001b[1;33m\u001b[0m\u001b[0m\n\u001b[1;32m     86\u001b[0m             \u001b[1;31m# check if condition T > R > P > S is satisfied.\u001b[0m\u001b[1;33m\u001b[0m\u001b[1;33m\u001b[0m\u001b[1;33m\u001b[0m\u001b[0m\n\u001b[0;32m---> 87\u001b[0;31m             \u001b[1;32massert\u001b[0m \u001b[0mRR\u001b[0m\u001b[1;33m[\u001b[0m\u001b[1;36m0\u001b[0m\u001b[1;33m]\u001b[0m \u001b[1;33m<\u001b[0m \u001b[0mTS\u001b[0m\u001b[1;33m[\u001b[0m\u001b[1;36m0\u001b[0m\u001b[1;33m]\u001b[0m\u001b[1;33m,\u001b[0m \u001b[1;34mf'temptation was not greater than reward for agent-combination {c1.name} and {c2.name}. Reward is {RR[0]} and Temptation is {TS[0]}'\u001b[0m\u001b[1;33m\u001b[0m\u001b[1;33m\u001b[0m\u001b[0m\n\u001b[0m\u001b[1;32m     88\u001b[0m             \u001b[1;32massert\u001b[0m \u001b[0mRR\u001b[0m\u001b[1;33m[\u001b[0m\u001b[1;36m1\u001b[0m\u001b[1;33m]\u001b[0m \u001b[1;33m<\u001b[0m \u001b[0mST\u001b[0m\u001b[1;33m[\u001b[0m\u001b[1;36m1\u001b[0m\u001b[1;33m]\u001b[0m\u001b[1;33m,\u001b[0m \u001b[1;34mf'temptation was not greater than reward for agent-combination {c1.name} and {c2.name}. Reward is {RR[1]} and Temptation is {ST[1]}'\u001b[0m\u001b[1;33m\u001b[0m\u001b[1;33m\u001b[0m\u001b[0m\n\u001b[1;32m     89\u001b[0m             \u001b[1;32massert\u001b[0m \u001b[0mST\u001b[0m\u001b[1;33m[\u001b[0m\u001b[1;36m0\u001b[0m\u001b[1;33m]\u001b[0m \u001b[1;33m<\u001b[0m \u001b[0mPP\u001b[0m\u001b[1;33m[\u001b[0m\u001b[1;36m0\u001b[0m\u001b[1;33m]\u001b[0m\u001b[1;33m,\u001b[0m \u001b[1;34mf'punishment was not greater than sucker for agent-combination {c1.name} and {c2.name}. Sucker is {ST[0]} and Punishment is {PP[0]} '\u001b[0m\u001b[1;33m\u001b[0m\u001b[1;33m\u001b[0m\u001b[0m\n",
      "\u001b[0;31mAssertionError\u001b[0m: temptation was not greater than reward for agent-combination 8 and 13. Reward is 9.64 and Temptation is 9.64"
     ]
    }
   ],
   "source": [
    "import sys\n",
    "sys.path.insert(1, '../../../')\n",
    "from heterogenous_game_theory import *\n",
    "seed = 4\n",
    "np.random.seed(seed)\n",
    "M = [5, 12.5]\n",
    "R = [0.4, 1.25]\n",
    "D = [0.3, 1.25]\n",
    "W = [1, 1/10000]\n",
    "\n",
    "agents = get_agents(homogenous = False, M = M, R = R, D = D, W = W)\n",
    "\n",
    "tour = Tournament.create_play_tournament(\n",
    "                 agents = agents, \n",
    "                 max_rounds = 10, \n",
    "                 strategy_list = [defect, tit_for_tat, generous_tit_for_tat, cooperate], \n",
    "                 payoff_functions = default_payoff_functions, \n",
    "                 surveillance_penalty = True,\n",
    "                 self_reward = None, \n",
    "                 playing_each_other = True,\n",
    "                 nr_strategy_changes = 1,\n",
    "                 mutation_rate = 0.1,\n",
    "                 init_fitnes_as_m = False,\n",
    "                 noise = 0.05,\n",
    "                 )\n",
    "save_results(tour, seed)"
   ]
  },
  {
   "cell_type": "code",
   "execution_count": 3,
   "metadata": {},
   "outputs": [
    {
     "name": "stdout",
     "output_type": "stream",
     "text": [
      "8.9 0.91 0.01 1.0\n",
      "0.8 0.2 0.38 1.0\n",
      "9.636\n",
      "9.644\n",
      "9.64\n",
      "9.64\n"
     ]
    }
   ],
   "source": [
    "print(agents[8].m, agents[8].d, agents[8].r ,agents[8].w)\n",
    "print(agents[13].m, agents[13].d, agents[13].r ,agents[13].w)\n",
    "\n",
    "print(round((agents[8].d + agents[8].r) * agents[13].m + (agents[8].w * agents[8].m), 3))\n",
    "print(round((agents[8].d + 2 * agents[8].r) * agents[13].m + (agents[8].w * agents[8].m), 3))\n",
    "\n",
    "print(round((agents[8].d + agents[8].r) * agents[13].m + (agents[8].w * agents[8].m), 2))\n",
    "print(round((agents[8].d + 2 * agents[8].r) * agents[13].m + (agents[8].w * agents[8].m), 2))"
   ]
  },
  {
   "cell_type": "code",
   "execution_count": null,
   "metadata": {},
   "outputs": [],
   "source": []
  }
 ],
 "metadata": {
  "kernelspec": {
   "display_name": "Python 3",
   "language": "python",
   "name": "python3"
  }
 },
 "nbformat": 4,
 "nbformat_minor": 2
}
