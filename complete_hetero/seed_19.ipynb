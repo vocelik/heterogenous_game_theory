{
 "cells": [
  {
   "cell_type": "code",
   "execution_count": 1,
   "metadata": {},
   "outputs": [
    {
     "data": {
      "text/html": [
       "<style>.container { width:90% !important; }</style>"
      ],
      "text/plain": [
       "<IPython.core.display.HTML object>"
      ]
     },
     "metadata": {},
     "output_type": "display_data"
    }
   ],
   "source": [
    "import sys\n",
    "sys.path.insert(1, '../')\n",
    "from heterogenous_game_theory import *\n",
    "import numpy as np\n",
    "import matplotlib.pyplot as plt\n",
    "import scipy as sp\n",
    "%matplotlib inline\n",
    "from IPython.core.display import display, HTML\n",
    "display(HTML(\"<style>.container { width:90% !important; }</style>\"))\n",
    "plt.style.use('fivethirtyeight')\n",
    "seed = 19\n",
    "np.random.seed(seed)"
   ]
  },
  {
   "cell_type": "code",
   "execution_count": 2,
   "metadata": {},
   "outputs": [
    {
     "name": "stdout",
     "output_type": "stream",
     "text": [
      "AGENT PARAMETERS IN POPULATION\n",
      "-------------------------------------\n",
      "   M \t\t  E \t\t  I\n",
      "-------------------------------------\n",
      "| 22 \t\t 0.06 \t\t 0.33 |\n",
      "| 15 \t\t 0.19 \t\t 0.4 |\n",
      "| 9 \t\t 0.66 \t\t 0.06 |\n",
      "| 15 \t\t 0.25 \t\t 0.58 |\n",
      "| 13 \t\t 0.55 \t\t 0.06 |\n",
      "| 12 \t\t 0.14 \t\t 0.44 |\n",
      "| 14 \t\t 0.21 \t\t 0.4 |\n",
      "| 4 \t\t 0.87 \t\t 0.94 |\n",
      "| 12 \t\t 0.58 \t\t 0.28 |\n",
      "| 7 \t\t 0.86 \t\t 0.8 |\n",
      "| 15 \t\t 0.28 \t\t 0.11 |\n",
      "| 8 \t\t 0.09 \t\t 0.03 |\n",
      "| 10 \t\t 0.55 \t\t 0.13 |\n",
      "| 12 \t\t 0.19 \t\t 0.06 |\n",
      "| 9 \t\t 0.07 \t\t 0.3 |\n",
      "| 11 \t\t 0.42 \t\t 0.84 |\n",
      "| 9 \t\t 0.7 \t\t 0.51 |\n",
      "| 17 \t\t 0.64 \t\t 0.17 |\n",
      "| 16 \t\t 0.28 \t\t 0.26 |\n",
      "-------------------------------------\n",
      "The s.d. of M is: 8.0\n",
      "The s.d. of E is: 0.26\n",
      "The s.d. of I is: 0.25\n",
      "-------------------------------------\n",
      "The mean of M is: 13\n",
      "The mean of E is: 0.39\n",
      "The mean of I is: 0.4\n",
      "-------------------------------------\n"
     ]
    },
    {
     "data": {
      "image/png": "[encoded data removed]",
      "text/plain": [
       "<Figure size 2160x720 with 3 Axes>"
      ]
     },
     "metadata": {
      "needs_background": "light"
     },
     "output_type": "display_data"
    },
    {
     "name": "stdout",
     "output_type": "stream",
     "text": [
      "____________________________________________________________________________________________________\n",
      "Agent 0 playing Agent 1: Reward: 0.9, Temptation: 1.84, Sucker: 0, Punishment: 0.94\n",
      "Agent 1 playing Agent 0: Reward: 4.18, Temptation: 4.71, Sucker: 0, Punishment: 0.53\n",
      "____________________________________________________________________________________________________\n",
      "____________________________________________________________________________________________________\n",
      "Agent 0 playing Agent 2: Reward: 0.54, Temptation: 2.5, Sucker: 0, Punishment: 1.96\n",
      "Agent 2 playing Agent 0: Reward: 14.52, Temptation: 14.6, Sucker: 0, Punishment: 0.08\n",
      "____________________________________________________________________________________________________\n",
      "____________________________________________________________________________________________________\n",
      "Agent 0 playing Agent 3: Reward: 0.9, Temptation: 2.14, Sucker: 0, Punishment: 1.24\n",
      "Agent 3 playing Agent 0: Reward: 5.5, Temptation: 6.27, Sucker: 0, Punishment: 0.77\n",
      "____________________________________________________________________________________________________\n",
      "____________________________________________________________________________________________________\n",
      "Agent 0 playing Agent 4: Reward: 0.78, Temptation: 3.14, Sucker: 0, Punishment: 2.36\n",
      "Agent 4 playing Agent 0: Reward: 12.1, Temptation: 12.18, Sucker: 0, Punishment: 0.08\n",
      "____________________________________________________________________________________________________\n",
      "____________________________________________________________________________________________________\n",
      "Agent 1 playing Agent 2: Reward: 1.71, Temptation: 4.09, Sucker: 0, Punishment: 2.38\n",
      "Agent 2 playing Agent 1: Reward: 9.9, Temptation: 10.07, Sucker: 0, Punishment: 0.17\n",
      "____________________________________________________________________________________________________\n",
      "____________________________________________________________________________________________________\n",
      "Agent 1 playing Agent 3: Reward: 2.85, Temptation: 4.35, Sucker: 0, Punishment: 1.5\n",
      "Agent 3 playing Agent 1: Reward: 3.75, Temptation: 5.4, Sucker: 0, Punishment: 1.65\n",
      "____________________________________________________________________________________________________\n",
      "____________________________________________________________________________________________________\n",
      "Agent 1 playing Agent 4: Reward: 2.47, Temptation: 5.33, Sucker: 0, Punishment: 2.86\n",
      "Agent 4 playing Agent 1: Reward: 8.25, Temptation: 8.42, Sucker: 0, Punishment: 0.17\n",
      "____________________________________________________________________________________________________\n",
      "____________________________________________________________________________________________________\n",
      "Agent 2 playing Agent 3: Reward: 9.9, Temptation: 10.12, Sucker: 0, Punishment: 0.22\n",
      "Agent 3 playing Agent 2: Reward: 2.25, Temptation: 5.7, Sucker: 0, Punishment: 3.45\n",
      "____________________________________________________________________________________________________\n",
      "____________________________________________________________________________________________________\n",
      "Agent 2 playing Agent 4: Reward: 8.58, Temptation: 9.01, Sucker: 0, Punishment: 0.43\n",
      "Agent 4 playing Agent 2: Reward: 4.95, Temptation: 5.31, Sucker: 0, Punishment: 0.36\n",
      "____________________________________________________________________________________________________\n",
      "____________________________________________________________________________________________________\n",
      "Agent 3 playing Agent 4: Reward: 3.25, Temptation: 7.4, Sucker: 0, Punishment: 4.15\n",
      "Agent 4 playing Agent 3: Reward: 8.25, Temptation: 8.48, Sucker: 0, Punishment: 0.22\n",
      "____________________________________________________________________________________________________\n"
     ]
    }
   ],
   "source": [
    "# if we want to run simulations with heterogenous populations - we need to set homogeneous to false, \n",
    "# and we have the option to set a value for M, E, and I for heterogenous populations (defaults are 1000, 0.1, 0.1 for homogenous)\n",
    "\n",
    "# first number is median, second standard deviation\n",
    "M = [10, 10]\n",
    "E = [0.3, 0.3]\n",
    "I = [0.3, 0.3]\n",
    "\n",
    "agents = get_agents(homogenous = False, M = M, E = E, I = I)\n",
    "check_parameters(agents)\n",
    "compare_payoff_function(agents, default_payoff_functions)"
   ]
  },
  {
   "cell_type": "code",
   "execution_count": null,
   "metadata": {},
   "outputs": [],
   "source": [
    "tour = Tournament.create_play_tournament(\n",
    "                 agents = agents, \n",
    "                 max_rounds = 10000, \n",
    "                 strategy_list = [defect, tit_for_tat, generous_tit_for_tat, cooperate], \n",
    "                 payoff_functions = default_payoff_functions, \n",
    "                 surveillance_penalty = True,\n",
    "                 self_reward = selfreward, #default function\n",
    "                 playing_each_other = True,\n",
    "                 nr_strategy_changes = 10,\n",
    "                 mutation_rate = 0.1,\n",
    "                 init_fitnes_as_m = False,\n",
    "                 noise = 0.05,\n",
    "                 )\n",
    "draw_stack(tour)\n",
    "C_D_ratios_per_round_var(tour, constant = 1)\n",
    "outliers = count_outliers(tour, constants = np.arange(0.5, 3.1, 0.1))\n",
    "data = {'S.D.': list(outliers.keys()), 'Counts': list(outliers.values())}\n",
    "df = pd.DataFrame.from_dict(data)\n",
    "print(df)\n",
    "df.to_csv(\"data/outliers/\" + str(seed) + \"_outlier_counts.csv\", encoding='utf-8', index = False, float_format='%.1f')\n",
    "save_tournament_csv(tour, seed = str(seed))"
   ]
  }
 ],
 "metadata": {
  "kernelspec": {
   "display_name": "Python 3",
   "language": "python",
   "name": "python3"
  },
  "language_info": {
   "codemirror_mode": {
    "name": "ipython",
    "version": 3
   },
   "file_extension": ".py",
   "mimetype": "text/x-python",
   "name": "python",
   "nbconvert_exporter": "python",
   "pygments_lexer": "ipython3",
   "version": "3.7.4"
  }
 },
 "nbformat": 4,
 "nbformat_minor": 2
}
