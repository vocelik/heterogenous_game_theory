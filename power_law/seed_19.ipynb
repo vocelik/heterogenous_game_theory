{
 "cells": [
  {
   "cell_type": "code",
   "execution_count": 1,
   "metadata": {},
   "outputs": [
    {
     "data": {
      "text/html": [
       "<style>.container { width:90% !important; }</style>"
      ],
      "text/plain": [
       "<IPython.core.display.HTML object>"
      ]
     },
     "metadata": {},
     "output_type": "display_data"
    }
   ],
   "source": [
    "import sys\n",
    "sys.path.insert(1, '../')\n",
    "from heterogenous_game_theory import *\n",
    "import numpy as np\n",
    "import matplotlib.pyplot as plt\n",
    "import scipy as sp\n",
    "%matplotlib inline\n",
    "from IPython.core.display import display, HTML\n",
    "display(HTML(\"<style>.container { width:90% !important; }</style>\"))\n",
    "plt.style.use('fivethirtyeight')\n",
    "seed = 19\n",
    "np.random.seed(seed)"
   ]
  },
  {
   "cell_type": "code",
   "execution_count": 2,
   "metadata": {},
   "outputs": [
    {
     "name": "stdout",
     "output_type": "stream",
     "text": [
      "AGENT PARAMETERS IN POPULATION\n",
      "-------------------------------------\n",
      "   M \t\t  E \t\t  I\n",
      "-------------------------------------\n",
      "| 15 \t\t 0.3 \t\t 0.3 |\n",
      "| 14 \t\t 0.3 \t\t 0.3 |\n",
      "| 11 \t\t 0.3 \t\t 0.3 |\n",
      "| 13 \t\t 0.3 \t\t 0.3 |\n",
      "| 15 \t\t 0.3 \t\t 0.3 |\n",
      "| 11 \t\t 0.3 \t\t 0.3 |\n",
      "| 19 \t\t 0.3 \t\t 0.3 |\n",
      "| 11 \t\t 0.3 \t\t 0.3 |\n",
      "| 10 \t\t 0.3 \t\t 0.3 |\n",
      "| 10 \t\t 0.3 \t\t 0.3 |\n",
      "| 13 \t\t 0.3 \t\t 0.3 |\n",
      "| 14 \t\t 0.3 \t\t 0.3 |\n",
      "| 11 \t\t 0.3 \t\t 0.3 |\n",
      "| 12 \t\t 0.3 \t\t 0.3 |\n",
      "| 14 \t\t 0.3 \t\t 0.3 |\n",
      "| 15 \t\t 0.3 \t\t 0.3 |\n",
      "| 11 \t\t 0.3 \t\t 0.3 |\n",
      "| 15 \t\t 0.3 \t\t 0.3 |\n",
      "| 12 \t\t 0.3 \t\t 0.3 |\n",
      "-------------------------------------\n",
      "The s.d. of M is: 3.0\n",
      "The s.d. of E is: 0.0\n",
      "The s.d. of I is: 0.0\n",
      "-------------------------------------\n",
      "The mean of M is: 12\n",
      "The mean of E is: 0.3\n",
      "The mean of I is: 0.3\n",
      "-------------------------------------\n"
     ]
    },
    {
     "data": {
      "image/png": "[encoded data removed]",
      "text/plain": [
       "<Figure size 2160x720 with 3 Axes>"
      ]
     },
     "metadata": {
      "needs_background": "light"
     },
     "output_type": "display_data"
    },
    {
     "name": "stdout",
     "output_type": "stream",
     "text": [
      "____________________________________________________________________________________________________\n",
      "Agent 0 playing Agent 1: Reward: 4.2, Temptation: 5.46, Sucker: 0, Punishment: 1.26\n",
      "Agent 1 playing Agent 0: Reward: 4.5, Temptation: 5.85, Sucker: 0, Punishment: 1.35\n",
      "____________________________________________________________________________________________________\n",
      "____________________________________________________________________________________________________\n",
      "Agent 0 playing Agent 2: Reward: 3.3, Temptation: 4.29, Sucker: 0, Punishment: 0.99\n",
      "Agent 2 playing Agent 0: Reward: 4.5, Temptation: 5.85, Sucker: 0, Punishment: 1.35\n",
      "____________________________________________________________________________________________________\n",
      "____________________________________________________________________________________________________\n",
      "Agent 0 playing Agent 3: Reward: 3.9, Temptation: 5.07, Sucker: 0, Punishment: 1.17\n",
      "Agent 3 playing Agent 0: Reward: 4.5, Temptation: 5.85, Sucker: 0, Punishment: 1.35\n",
      "____________________________________________________________________________________________________\n",
      "____________________________________________________________________________________________________\n",
      "Agent 0 playing Agent 4: Reward: 4.5, Temptation: 5.85, Sucker: 0, Punishment: 1.35\n",
      "Agent 4 playing Agent 0: Reward: 4.5, Temptation: 5.85, Sucker: 0, Punishment: 1.35\n",
      "____________________________________________________________________________________________________\n",
      "____________________________________________________________________________________________________\n",
      "Agent 1 playing Agent 2: Reward: 3.3, Temptation: 4.29, Sucker: 0, Punishment: 0.99\n",
      "Agent 2 playing Agent 1: Reward: 4.2, Temptation: 5.46, Sucker: 0, Punishment: 1.26\n",
      "____________________________________________________________________________________________________\n",
      "____________________________________________________________________________________________________\n",
      "Agent 1 playing Agent 3: Reward: 3.9, Temptation: 5.07, Sucker: 0, Punishment: 1.17\n",
      "Agent 3 playing Agent 1: Reward: 4.2, Temptation: 5.46, Sucker: 0, Punishment: 1.26\n",
      "____________________________________________________________________________________________________\n",
      "____________________________________________________________________________________________________\n",
      "Agent 1 playing Agent 4: Reward: 4.5, Temptation: 5.85, Sucker: 0, Punishment: 1.35\n",
      "Agent 4 playing Agent 1: Reward: 4.2, Temptation: 5.46, Sucker: 0, Punishment: 1.26\n",
      "____________________________________________________________________________________________________\n",
      "____________________________________________________________________________________________________\n",
      "Agent 2 playing Agent 3: Reward: 3.9, Temptation: 5.07, Sucker: 0, Punishment: 1.17\n",
      "Agent 3 playing Agent 2: Reward: 3.3, Temptation: 4.29, Sucker: 0, Punishment: 0.99\n",
      "____________________________________________________________________________________________________\n",
      "____________________________________________________________________________________________________\n",
      "Agent 2 playing Agent 4: Reward: 4.5, Temptation: 5.85, Sucker: 0, Punishment: 1.35\n",
      "Agent 4 playing Agent 2: Reward: 3.3, Temptation: 4.29, Sucker: 0, Punishment: 0.99\n",
      "____________________________________________________________________________________________________\n",
      "____________________________________________________________________________________________________\n",
      "Agent 3 playing Agent 4: Reward: 4.5, Temptation: 5.85, Sucker: 0, Punishment: 1.35\n",
      "Agent 4 playing Agent 3: Reward: 3.9, Temptation: 5.07, Sucker: 0, Punishment: 1.17\n",
      "____________________________________________________________________________________________________\n"
     ]
    }
   ],
   "source": [
    "# if we want to run simulations with heterogenous populations - we need to set homogeneous to false, \n",
    "# and we have the option to set a value for M, E, and I for heterogenous populations (defaults are 1000, 0.1, 0.1 for homogenous)\n",
    "\n",
    "# first number is median, second standard deviation\n",
    "M = [\"power\", 10, 5]\n",
    "E = [0.3, 1/10000]\n",
    "I = [0.3, 1/10000]\n",
    "\n",
    "agents = get_agents(homogenous = False, M = M, E = E, I = I)\n",
    "check_parameters(agents)\n",
    "compare_payoff_function(agents, default_payoff_functions)"
   ]
  },
  {
   "cell_type": "code",
   "execution_count": null,
   "metadata": {},
   "outputs": [
    {
     "name": "stdout",
     "output_type": "stream",
     "text": [
      "Tournament has started...\n",
      "Tournament has ended. The simulation took 20 minutes.\n",
      "    S.D.  Counts\n",
      "0    0.5     273\n",
      "1    0.6     250\n",
      "2    0.7     211\n",
      "3    0.8     209\n",
      "4    0.9     189\n",
      "5    1.0     186\n",
      "6    1.1     162\n",
      "7    1.2     152\n",
      "8    1.3     160\n",
      "9    1.4     123\n",
      "10   1.5     107\n",
      "11   1.6      83\n",
      "12   1.7      68\n",
      "13   1.8      52\n",
      "14   1.9      45\n",
      "15   2.0      33\n",
      "16   2.1      20\n",
      "17   2.2      16\n",
      "18   2.3       7\n",
      "19   2.4       7\n",
      "20   2.5       5\n",
      "21   2.6       2\n",
      "22   2.7       2\n",
      "23   2.8       2\n",
      "24   2.9       1\n",
      "25   3.0       0\n"
     ]
    }
   ],
   "source": [
    "tour = Tournament.create_play_tournament(\n",
    "                 agents = agents, \n",
    "                 max_rounds = 10000, \n",
    "                 strategy_list = [defect, tit_for_tat, generous_tit_for_tat, cooperate], \n",
    "                 payoff_functions = default_payoff_functions, \n",
    "                 surveillance_penalty = True,\n",
    "                 self_reward = selfreward, #default function\n",
    "                 playing_each_other = True,\n",
    "                 nr_strategy_changes = 10,\n",
    "                 mutation_rate = 0.1,\n",
    "                 init_fitnes_as_m = False,\n",
    "                 noise = 0.05,\n",
    "                 )\n",
    "draw_stack(tour)\n",
    "C_D_ratios_per_round_var(tour, constant = 1)\n",
    "outliers = count_outliers(tour, constants = np.arange(0.5, 3.1, 0.1))\n",
    "data = {'S.D.': list(outliers.keys()), 'Counts': list(outliers.values())}\n",
    "df = pd.DataFrame.from_dict(data)\n",
    "print(df)\n",
    "df.to_csv(\"data/outliers/\" + str(seed) + \"_outlier_counts.csv\", encoding='utf-8', index = False, float_format='%.1f')\n",
    "save_tournament_csv(tour, seed = str(seed))"
   ]
  }
 ],
 "metadata": {
  "kernelspec": {
   "display_name": "Python 3",
   "language": "python",
   "name": "python3"
  },
  "language_info": {
   "codemirror_mode": {
    "name": "ipython",
    "version": 3
   },
   "file_extension": ".py",
   "mimetype": "text/x-python",
   "name": "python",
   "nbconvert_exporter": "python",
   "pygments_lexer": "ipython3",
   "version": "3.7.4"
  }
 },
 "nbformat": 4,
 "nbformat_minor": 2
}
