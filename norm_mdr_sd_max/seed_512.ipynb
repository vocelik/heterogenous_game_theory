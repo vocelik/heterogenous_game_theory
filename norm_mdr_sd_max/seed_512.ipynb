{
 "cells": [
  {
   "cell_type": "code",
   "execution_count": null,
   "metadata": {},
   "outputs": [
    {
     "data": {
      "text/html": [
       "<style>.container { width:90% !important; }</style>"
      ],
      "text/plain": [
       "<IPython.core.display.HTML object>"
      ]
     },
     "metadata": {},
     "output_type": "display_data"
    },
    {
     "name": "stdout",
     "output_type": "stream",
     "text": [
      "AGENT PARAMETERS IN POPULATION\n",
      "-------------------------------------\n",
      "   M \t\t  D \t\t  R\n",
      "-------------------------------------\n",
      "| 2.2 \t\t 0.09 \t\t 0.88 |\n",
      "| 8.6 \t\t 0.23 \t\t 0.01 |\n",
      "| 6.0 \t\t 0.02 \t\t 0.32 |\n",
      "| 5.5 \t\t 0.44 \t\t 0.74 |\n",
      "| 2.4 \t\t 0.31 \t\t 0.84 |\n",
      "| 3.4 \t\t 0.3 \t\t 0.58 |\n",
      "| 8.1 \t\t 0.83 \t\t 0.44 |\n",
      "| 4.5 \t\t 0.9 \t\t 0.83 |\n",
      "| 9.5 \t\t 0.47 \t\t 0.42 |\n",
      "| 6.5 \t\t 0.06 \t\t 0.25 |\n",
      "| 1.6 \t\t 0.97 \t\t 0.61 |\n",
      "| 0.3 \t\t 0.74 \t\t 0.49 |\n",
      "| 6.9 \t\t 0.32 \t\t 0.15 |\n",
      "| 5.3 \t\t 0.63 \t\t 0.81 |\n",
      "| 4.2 \t\t 0.04 \t\t 0.47 |\n",
      "| 5.2 \t\t 0.21 \t\t 0.24 |\n",
      "| 0.8 \t\t 0.12 \t\t 0.67 |\n",
      "| 3.7 \t\t 0.38 \t\t 0.79 |\n",
      "| 3.1 \t\t 0.73 \t\t 0.55 |\n",
      "-------------------------------------\n",
      "The s.d. of M is: 2.62\n",
      "The s.d. of D is: 0.29\n",
      "The s.d. of R is: 0.28\n",
      "-------------------------------------\n",
      "The mean of M is: 4.93\n",
      "The mean of D is: 0.5\n",
      "The mean of R is: 0.48\n",
      "-------------------------------------\n"
     ]
    },
    {
     "data": {
      "image/png": "[encoded data removed]",
      "text/plain": [
       "<Figure size 2160x720 with 3 Axes>"
      ]
     },
     "metadata": {},
     "output_type": "display_data"
    },
    {
     "name": "stdout",
     "output_type": "stream",
     "text": [
      "____________________________________________________________________________________________________\n",
      "Agent 0 playing Agent 1: Reward: 8.3, Temptation: 15.9, Sucker: 0, Punishment: 7.6\n",
      "Agent 1 playing Agent 0: Reward: 0.5, Temptation: 0.6, Sucker: 0, Punishment: 0.0\n",
      "____________________________________________________________________________________________________\n",
      "Agent 0 playing Agent 2: Reward: 5.8, Temptation: 11.1, Sucker: 0, Punishment: 5.3\n",
      "Agent 2 playing Agent 0: Reward: 0.7, Temptation: 1.5, Sucker: 0, Punishment: 0.7\n",
      "____________________________________________________________________________________________________\n",
      "Agent 0 playing Agent 3: Reward: 5.3, Temptation: 10.2, Sucker: 0, Punishment: 4.8\n",
      "Agent 3 playing Agent 0: Reward: 2.6, Temptation: 4.2, Sucker: 0, Punishment: 1.6\n",
      "____________________________________________________________________________________________________\n",
      "Agent 0 playing Agent 4: Reward: 2.3, Temptation: 4.4, Sucker: 0, Punishment: 2.1\n",
      "Agent 4 playing Agent 0: Reward: 2.5, Temptation: 4.4, Sucker: 0, Punishment: 1.8\n",
      "____________________________________________________________________________________________________\n",
      "Agent 1 playing Agent 2: Reward: 1.4, Temptation: 1.5, Sucker: 0, Punishment: 0.1\n",
      "Agent 2 playing Agent 1: Reward: 2.9, Temptation: 5.7, Sucker: 0, Punishment: 2.8\n",
      "____________________________________________________________________________________________________\n",
      "Agent 1 playing Agent 3: Reward: 1.3, Temptation: 1.4, Sucker: 0, Punishment: 0.1\n",
      "Agent 3 playing Agent 1: Reward: 10.1, Temptation: 16.5, Sucker: 0, Punishment: 6.4\n",
      "____________________________________________________________________________________________________\n",
      "Agent 1 playing Agent 4: Reward: 0.6, Temptation: 0.6, Sucker: 0, Punishment: 0.0\n",
      "Agent 4 playing Agent 1: Reward: 9.9, Temptation: 17.1, Sucker: 0, Punishment: 7.2\n",
      "____________________________________________________________________________________________________\n",
      "Agent 2 playing Agent 3: Reward: 1.9, Temptation: 3.6, Sucker: 0, Punishment: 1.8\n",
      "Agent 3 playing Agent 2: Reward: 7.1, Temptation: 11.5, Sucker: 0, Punishment: 4.4\n",
      "____________________________________________________________________________________________________\n",
      "Agent 2 playing Agent 4: Reward: 0.8, Temptation: 1.6, Sucker: 0, Punishment: 0.8\n",
      "Agent 4 playing Agent 2: Reward: 6.9, Temptation: 11.9, Sucker: 0, Punishment: 5.0\n",
      "____________________________________________________________________________________________________\n",
      "Agent 3 playing Agent 4: Reward: 2.8, Temptation: 4.6, Sucker: 0, Punishment: 1.8\n",
      "Agent 4 playing Agent 3: Reward: 6.3, Temptation: 10.9, Sucker: 0, Punishment: 4.6\n",
      "\n",
      "All players are playing a prisoners dilemma\n",
      "Tournament has started...\n",
      "Tournament has ended. The simulation took 44 minutes.\n",
      "    S.D.  Counts\n",
      "0    0.5     249\n",
      "1    0.6     232\n",
      "2    0.7     230\n",
      "3    0.8     208\n",
      "4    0.9     199\n",
      "5    1.0     192\n",
      "6    1.1     171\n",
      "7    1.2     175\n",
      "8    1.3     162\n",
      "9    1.4     136\n",
      "10   1.5      99\n",
      "11   1.6      91\n",
      "12   1.7      76\n",
      "13   1.8      74\n",
      "14   1.9      45\n",
      "15   2.0      29\n",
      "16   2.1      21\n",
      "17   2.2      12\n",
      "18   2.3       7\n",
      "19   2.4       5\n",
      "20   2.5       4\n",
      "21   2.6       2\n",
      "22   2.7       4\n",
      "23   2.8       3\n",
      "24   2.9       2\n",
      "25   3.0       2\n"
     ]
    }
   ],
   "source": [
    "import sys\n",
    "sys.path.insert(1, '../')\n",
    "from heterogenous_game_theory import *\n",
    "import numpy as np\n",
    "import matplotlib.pyplot as plt\n",
    "import scipy as sp\n",
    "%matplotlib inline\n",
    "from IPython.core.display import display, HTML\n",
    "display(HTML(\"<style>.container { width:90% !important; }</style>\"))\n",
    "plt.style.use('fivethirtyeight')\n",
    "seed = 512\n",
    "np.random.seed(seed)\n",
    "\n",
    "tour_type = \"hetero_mdr_sd_max\"\n",
    "M = [5, 12.5]\n",
    "R = [0.4, 1.25]\n",
    "D = [0.3, 1.25]\n",
    "\n",
    "agents = get_agents(homogenous = False, M = M, R = R, D = D)\n",
    "check_parameters(agents)\n",
    "compare_payoff_function(agents, default_payoff_functions)\n",
    "\n",
    "tour = Tournament.create_play_tournament(\n",
    "                 agents = agents, \n",
    "                 max_rounds = 10000, \n",
    "                 strategy_list = [defect, tit_for_tat, generous_tit_for_tat, cooperate], \n",
    "                 payoff_functions = default_payoff_functions, \n",
    "                 surveillance_penalty = True,\n",
    "                 self_reward = selfreward, #default function\n",
    "                 playing_each_other = True,\n",
    "                 nr_strategy_changes = 10,\n",
    "                 mutation_rate = 0.1,\n",
    "                 init_fitnes_as_m = False,\n",
    "                 noise = 0.05,\n",
    "                 )\n",
    "draw_stack(tour)\n",
    "C_D_ratios_per_round_var(tour, constant = 1)\n",
    "outliers = count_outliers(tour, constants = np.arange(0.5, 3.1, 0.1))\n",
    "data = {'S.D.': list(outliers.keys()), 'Counts': list(outliers.values())}\n",
    "df = pd.DataFrame.from_dict(data)\n",
    "print(df)\n",
    "df.to_csv(\"data/outliers/\" + str(seed) + \"_outlier_counts.csv\", encoding='utf-8', index = False, float_format='%.1f')\n",
    "save_tournament_csv(tour, seed = str(seed), tour_type = tour_type)"
   ]
  },
  {
   "cell_type": "code",
   "execution_count": null,
   "metadata": {},
   "outputs": [],
   "source": []
  }
 ],
 "metadata": {
  "kernelspec": {
   "display_name": "Python 3",
   "language": "python",
   "name": "python3"
  },
  "language_info": {
   "codemirror_mode": {
    "name": "ipython",
    "version": 3
   },
   "file_extension": ".py",
   "mimetype": "text/x-python",
   "name": "python",
   "nbconvert_exporter": "python",
   "pygments_lexer": "ipython3",
   "version": "3.7.3"
  }
 },
 "nbformat": 4,
 "nbformat_minor": 2
}
