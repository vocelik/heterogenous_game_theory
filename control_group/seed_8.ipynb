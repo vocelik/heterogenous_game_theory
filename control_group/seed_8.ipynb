{
 "cells": [
  {
   "cell_type": "code",
   "execution_count": 1,
   "metadata": {},
   "outputs": [
    {
     "data": {
      "text/html": [
       "<style>.container { width:90% !important; }</style>"
      ],
      "text/plain": [
       "<IPython.core.display.HTML object>"
      ]
     },
     "metadata": {},
     "output_type": "display_data"
    },
    {
     "name": "stdout",
     "output_type": "stream",
     "text": [
      "AGENT PARAMETERS IN POPULATION\n",
      "-------------------------------------\n",
      "   M \t\t  D \t\t  R\n",
      "-------------------------------------\n",
      "| 5 \t\t 0.4 \t\t 0.3 |\n",
      "| 5 \t\t 0.4 \t\t 0.3 |\n",
      "| 5 \t\t 0.4 \t\t 0.3 |\n",
      "| 5 \t\t 0.4 \t\t 0.3 |\n",
      "| 5 \t\t 0.4 \t\t 0.3 |\n",
      "| 5 \t\t 0.4 \t\t 0.3 |\n",
      "| 5 \t\t 0.4 \t\t 0.3 |\n",
      "| 5 \t\t 0.4 \t\t 0.3 |\n",
      "| 5 \t\t 0.4 \t\t 0.3 |\n",
      "| 5 \t\t 0.4 \t\t 0.3 |\n",
      "| 5 \t\t 0.4 \t\t 0.3 |\n",
      "| 5 \t\t 0.4 \t\t 0.3 |\n",
      "| 5 \t\t 0.4 \t\t 0.3 |\n",
      "| 5 \t\t 0.4 \t\t 0.3 |\n",
      "| 5 \t\t 0.4 \t\t 0.3 |\n",
      "| 5 \t\t 0.4 \t\t 0.3 |\n",
      "| 5 \t\t 0.4 \t\t 0.3 |\n",
      "| 5 \t\t 0.4 \t\t 0.3 |\n",
      "| 5 \t\t 0.4 \t\t 0.3 |\n",
      "-------------------------------------\n",
      "The s.d. of M is: 0.0\n",
      "The s.d. of D is: 0.0\n",
      "The s.d. of R is: 0.0\n",
      "-------------------------------------\n",
      "The mean of M is: 5\n",
      "The mean of D is: 0.3\n",
      "The mean of R is: 0.4\n",
      "-------------------------------------\n"
     ]
    },
    {
     "data": {
      "image/png": "[encoded data removed]",
      "text/plain": [
       "<Figure size 2160x720 with 3 Axes>"
      ]
     },
     "metadata": {},
     "output_type": "display_data"
    },
    {
     "name": "stdout",
     "output_type": "stream",
     "text": [
      "____________________________________________________________________________________________________\n",
      "Agent 0 playing Agent 1: Reward: 3.5, Temptation: 5.0, Sucker: 0, Punishment: 1.5\n",
      "Agent 1 playing Agent 0: Reward: 3.5, Temptation: 5.0, Sucker: 0, Punishment: 1.5\n",
      "____________________________________________________________________________________________________\n",
      "Agent 0 playing Agent 2: Reward: 3.5, Temptation: 5.0, Sucker: 0, Punishment: 1.5\n",
      "Agent 2 playing Agent 0: Reward: 3.5, Temptation: 5.0, Sucker: 0, Punishment: 1.5\n",
      "____________________________________________________________________________________________________\n",
      "Agent 0 playing Agent 3: Reward: 3.5, Temptation: 5.0, Sucker: 0, Punishment: 1.5\n",
      "Agent 3 playing Agent 0: Reward: 3.5, Temptation: 5.0, Sucker: 0, Punishment: 1.5\n",
      "____________________________________________________________________________________________________\n",
      "Agent 0 playing Agent 4: Reward: 3.5, Temptation: 5.0, Sucker: 0, Punishment: 1.5\n",
      "Agent 4 playing Agent 0: Reward: 3.5, Temptation: 5.0, Sucker: 0, Punishment: 1.5\n",
      "____________________________________________________________________________________________________\n",
      "Agent 1 playing Agent 2: Reward: 3.5, Temptation: 5.0, Sucker: 0, Punishment: 1.5\n",
      "Agent 2 playing Agent 1: Reward: 3.5, Temptation: 5.0, Sucker: 0, Punishment: 1.5\n",
      "____________________________________________________________________________________________________\n",
      "Agent 1 playing Agent 3: Reward: 3.5, Temptation: 5.0, Sucker: 0, Punishment: 1.5\n",
      "Agent 3 playing Agent 1: Reward: 3.5, Temptation: 5.0, Sucker: 0, Punishment: 1.5\n",
      "____________________________________________________________________________________________________\n",
      "Agent 1 playing Agent 4: Reward: 3.5, Temptation: 5.0, Sucker: 0, Punishment: 1.5\n",
      "Agent 4 playing Agent 1: Reward: 3.5, Temptation: 5.0, Sucker: 0, Punishment: 1.5\n",
      "____________________________________________________________________________________________________\n",
      "Agent 2 playing Agent 3: Reward: 3.5, Temptation: 5.0, Sucker: 0, Punishment: 1.5\n",
      "Agent 3 playing Agent 2: Reward: 3.5, Temptation: 5.0, Sucker: 0, Punishment: 1.5\n",
      "____________________________________________________________________________________________________\n",
      "Agent 2 playing Agent 4: Reward: 3.5, Temptation: 5.0, Sucker: 0, Punishment: 1.5\n",
      "Agent 4 playing Agent 2: Reward: 3.5, Temptation: 5.0, Sucker: 0, Punishment: 1.5\n",
      "____________________________________________________________________________________________________\n",
      "Agent 3 playing Agent 4: Reward: 3.5, Temptation: 5.0, Sucker: 0, Punishment: 1.5\n",
      "Agent 4 playing Agent 3: Reward: 3.5, Temptation: 5.0, Sucker: 0, Punishment: 1.5\n",
      "\n",
      "All players are playing a prisoners dilemma\n",
      "Tournament has started...\n",
      "/"
     ]
    },
    {
     "ename": "KeyboardInterrupt",
     "evalue": "",
     "output_type": "error",
     "traceback": [
      "\u001b[0;31m---------------------------------------------------------------------------\u001b[0m",
      "\u001b[0;31mKeyboardInterrupt\u001b[0m                         Traceback (most recent call last)",
      "\u001b[0;32m<ipython-input-1-9021444b9c38>\u001b[0m in \u001b[0;36m<module>\u001b[0;34m()\u001b[0m\n\u001b[1;32m     29\u001b[0m                  \u001b[0mmutation_rate\u001b[0m \u001b[1;33m=\u001b[0m \u001b[1;36m0.1\u001b[0m\u001b[1;33m,\u001b[0m\u001b[1;33m\u001b[0m\u001b[1;33m\u001b[0m\u001b[0m\n\u001b[1;32m     30\u001b[0m                  \u001b[0minit_fitnes_as_m\u001b[0m \u001b[1;33m=\u001b[0m \u001b[1;32mFalse\u001b[0m\u001b[1;33m,\u001b[0m\u001b[1;33m\u001b[0m\u001b[1;33m\u001b[0m\u001b[0m\n\u001b[0;32m---> 31\u001b[0;31m                  \u001b[0mnoise\u001b[0m \u001b[1;33m=\u001b[0m \u001b[1;36m0.05\u001b[0m\u001b[1;33m,\u001b[0m\u001b[1;33m\u001b[0m\u001b[1;33m\u001b[0m\u001b[0m\n\u001b[0m\u001b[1;32m     32\u001b[0m                  )\n\u001b[1;32m     33\u001b[0m \u001b[0mdraw_stack\u001b[0m\u001b[1;33m(\u001b[0m\u001b[0mtour\u001b[0m\u001b[1;33m)\u001b[0m\u001b[1;33m\u001b[0m\u001b[1;33m\u001b[0m\u001b[0m\n",
      "\u001b[0;32mC:\\Users\\vocelik\\Documents\\projects\\heterogenous_game_theory\\heterogenous_game_theory\\tournament.py\u001b[0m in \u001b[0;36mcreate_play_tournament\u001b[0;34m(cls, agents, max_rounds, strategy_list, payoff_functions, surveillance_penalty, self_reward, playing_each_other, nr_strategy_changes, mutation_rate, init_fitnes_as_m, noise)\u001b[0m\n\u001b[1;32m    444\u001b[0m         \u001b[0mtournament\u001b[0m\u001b[1;33m.\u001b[0m\u001b[0minit_fitness\u001b[0m\u001b[1;33m(\u001b[0m\u001b[0minit_fitnes_as_m\u001b[0m\u001b[1;33m=\u001b[0m\u001b[0minit_fitnes_as_m\u001b[0m\u001b[1;33m)\u001b[0m\u001b[1;33m\u001b[0m\u001b[1;33m\u001b[0m\u001b[0m\n\u001b[1;32m    445\u001b[0m \u001b[1;33m\u001b[0m\u001b[0m\n\u001b[0;32m--> 446\u001b[0;31m         \u001b[0mtournament\u001b[0m\u001b[1;33m.\u001b[0m\u001b[0mplay\u001b[0m\u001b[1;33m(\u001b[0m\u001b[0mself_reward\u001b[0m\u001b[1;33m,\u001b[0m \u001b[0mplaying_each_other\u001b[0m\u001b[1;33m,\u001b[0m \u001b[0mnr_strategy_changes\u001b[0m\u001b[1;33m,\u001b[0m \u001b[0mmutation_rate\u001b[0m\u001b[1;33m)\u001b[0m\u001b[1;33m\u001b[0m\u001b[1;33m\u001b[0m\u001b[0m\n\u001b[0m\u001b[1;32m    447\u001b[0m \u001b[1;33m\u001b[0m\u001b[0m\n\u001b[1;32m    448\u001b[0m         \u001b[1;32mreturn\u001b[0m \u001b[0mtournament\u001b[0m\u001b[1;33m\u001b[0m\u001b[1;33m\u001b[0m\u001b[0m\n",
      "\u001b[0;32mC:\\Users\\vocelik\\Documents\\projects\\heterogenous_game_theory\\heterogenous_game_theory\\tournament.py\u001b[0m in \u001b[0;36mplay\u001b[0;34m(self, self_reward, playing_each_other, nr_strategy_changes, mutation_rate)\u001b[0m\n\u001b[1;32m    356\u001b[0m                 \u001b[1;32mfor\u001b[0m \u001b[0magent_1\u001b[0m\u001b[1;33m,\u001b[0m \u001b[0magent_2\u001b[0m\u001b[1;33m,\u001b[0m \u001b[0mdata\u001b[0m \u001b[1;32min\u001b[0m \u001b[0mself\u001b[0m\u001b[1;33m.\u001b[0m\u001b[0mgraph\u001b[0m\u001b[1;33m.\u001b[0m\u001b[0medges\u001b[0m\u001b[1;33m(\u001b[0m\u001b[0mdata\u001b[0m\u001b[1;33m=\u001b[0m\u001b[1;32mTrue\u001b[0m\u001b[1;33m)\u001b[0m\u001b[1;33m:\u001b[0m \u001b[1;31m# data: include edge-attributes in the iteration\u001b[0m\u001b[1;33m\u001b[0m\u001b[1;33m\u001b[0m\u001b[0m\n\u001b[1;32m    357\u001b[0m                     \u001b[1;31m# todo: we are looping though edges twice.. this could be done only once.\u001b[0m\u001b[1;33m\u001b[0m\u001b[1;33m\u001b[0m\u001b[1;33m\u001b[0m\u001b[0m\n\u001b[0;32m--> 358\u001b[0;31m                     \u001b[0mself\u001b[0m\u001b[1;33m.\u001b[0m\u001b[0mplay_prisoners_dilema\u001b[0m\u001b[1;33m(\u001b[0m\u001b[0magent_1\u001b[0m\u001b[1;33m,\u001b[0m \u001b[0magent_2\u001b[0m\u001b[1;33m,\u001b[0m \u001b[0mdata\u001b[0m\u001b[1;33m)\u001b[0m\u001b[1;33m\u001b[0m\u001b[1;33m\u001b[0m\u001b[0m\n\u001b[0m\u001b[1;32m    359\u001b[0m \u001b[1;33m\u001b[0m\u001b[0m\n\u001b[1;32m    360\u001b[0m             \u001b[1;32mfor\u001b[0m \u001b[0m_\u001b[0m \u001b[1;32min\u001b[0m \u001b[0mrange\u001b[0m\u001b[1;33m(\u001b[0m\u001b[0mnr_strategy_changes\u001b[0m\u001b[1;33m)\u001b[0m\u001b[1;33m:\u001b[0m\u001b[1;33m\u001b[0m\u001b[1;33m\u001b[0m\u001b[0m\n",
      "\u001b[0;32mC:\\Users\\vocelik\\Documents\\projects\\heterogenous_game_theory\\heterogenous_game_theory\\tournament.py\u001b[0m in \u001b[0;36mplay_prisoners_dilema\u001b[0;34m(self, agent_1, agent_2, game)\u001b[0m\n\u001b[1;32m    281\u001b[0m \u001b[1;33m\u001b[0m\u001b[0m\n\u001b[1;32m    282\u001b[0m         \u001b[1;31m# let agents' strategies choose an action\u001b[0m\u001b[1;33m\u001b[0m\u001b[1;33m\u001b[0m\u001b[1;33m\u001b[0m\u001b[0m\n\u001b[0;32m--> 283\u001b[0;31m         \u001b[0maction_1\u001b[0m \u001b[1;33m=\u001b[0m \u001b[0magent_1\u001b[0m\u001b[1;33m.\u001b[0m\u001b[0mselect_action\u001b[0m\u001b[1;33m(\u001b[0m\u001b[0mgame\u001b[0m\u001b[1;33m[\u001b[0m\u001b[1;34m'history_1'\u001b[0m\u001b[1;33m]\u001b[0m\u001b[1;33m,\u001b[0m \u001b[0mgame\u001b[0m\u001b[1;33m[\u001b[0m\u001b[1;34m'history_2'\u001b[0m\u001b[1;33m]\u001b[0m\u001b[1;33m,\u001b[0m \u001b[0mself\u001b[0m\u001b[1;33m.\u001b[0m\u001b[0mnoise\u001b[0m\u001b[1;33m)\u001b[0m\u001b[1;33m\u001b[0m\u001b[1;33m\u001b[0m\u001b[0m\n\u001b[0m\u001b[1;32m    284\u001b[0m         \u001b[0maction_2\u001b[0m \u001b[1;33m=\u001b[0m \u001b[0magent_2\u001b[0m\u001b[1;33m.\u001b[0m\u001b[0mselect_action\u001b[0m\u001b[1;33m(\u001b[0m\u001b[0mgame\u001b[0m\u001b[1;33m[\u001b[0m\u001b[1;34m'history_2'\u001b[0m\u001b[1;33m]\u001b[0m\u001b[1;33m,\u001b[0m \u001b[0mgame\u001b[0m\u001b[1;33m[\u001b[0m\u001b[1;34m'history_1'\u001b[0m\u001b[1;33m]\u001b[0m\u001b[1;33m,\u001b[0m \u001b[0mself\u001b[0m\u001b[1;33m.\u001b[0m\u001b[0mnoise\u001b[0m\u001b[1;33m)\u001b[0m\u001b[1;33m\u001b[0m\u001b[1;33m\u001b[0m\u001b[0m\n\u001b[1;32m    285\u001b[0m \u001b[1;33m\u001b[0m\u001b[0m\n",
      "\u001b[0;32mC:\\Users\\vocelik\\Documents\\projects\\heterogenous_game_theory\\heterogenous_game_theory\\agent.py\u001b[0m in \u001b[0;36mselect_action\u001b[0;34m(self, selfmoves, othermoves, noise_threshold)\u001b[0m\n\u001b[1;32m     44\u001b[0m \u001b[1;33m\u001b[0m\u001b[0m\n\u001b[1;32m     45\u001b[0m     \u001b[1;32mdef\u001b[0m \u001b[0mselect_action\u001b[0m\u001b[1;33m(\u001b[0m\u001b[0mself\u001b[0m\u001b[1;33m,\u001b[0m \u001b[0mselfmoves\u001b[0m\u001b[1;33m,\u001b[0m \u001b[0mothermoves\u001b[0m\u001b[1;33m,\u001b[0m \u001b[0mnoise_threshold\u001b[0m\u001b[1;33m)\u001b[0m\u001b[1;33m:\u001b[0m\u001b[1;33m\u001b[0m\u001b[1;33m\u001b[0m\u001b[0m\n\u001b[0;32m---> 46\u001b[0;31m         \u001b[0mr\u001b[0m \u001b[1;33m=\u001b[0m \u001b[0mnp\u001b[0m\u001b[1;33m.\u001b[0m\u001b[0mrandom\u001b[0m\u001b[1;33m.\u001b[0m\u001b[0muniform\u001b[0m\u001b[1;33m(\u001b[0m\u001b[1;33m)\u001b[0m\u001b[1;33m\u001b[0m\u001b[1;33m\u001b[0m\u001b[0m\n\u001b[0m\u001b[1;32m     47\u001b[0m         \u001b[1;32mif\u001b[0m \u001b[0mr\u001b[0m \u001b[1;33m<\u001b[0m \u001b[0mnoise_threshold\u001b[0m\u001b[1;33m:\u001b[0m\u001b[1;33m\u001b[0m\u001b[1;33m\u001b[0m\u001b[0m\n\u001b[1;32m     48\u001b[0m             \u001b[1;31m# there is a chance of {noise_threshold} that this action will\u001b[0m\u001b[1;33m\u001b[0m\u001b[1;33m\u001b[0m\u001b[1;33m\u001b[0m\u001b[0m\n",
      "\u001b[0;31mKeyboardInterrupt\u001b[0m: "
     ]
    }
   ],
   "source": [
    "import sys\n",
    "sys.path.insert(1, '../')\n",
    "from heterogenous_game_theory import *\n",
    "import numpy as np\n",
    "import matplotlib.pyplot as plt\n",
    "import scipy as sp\n",
    "%matplotlib inline\n",
    "from IPython.core.display import display, HTML\n",
    "display(HTML(\"<style>.container { width:90% !important; }</style>\"))\n",
    "plt.style.use('fivethirtyeight')\n",
    "seed = 8\n",
    "np.random.seed(seed)\n",
    "\n",
    "tour_type = \"homogenous\"\n",
    "\n",
    "agents = get_agents(homogenous = True)\n",
    "check_parameters(agents)\n",
    "compare_payoff_function(agents, default_payoff_functions)\n",
    "\n",
    "tour = Tournament.create_play_tournament(\n",
    "                 agents = agents, \n",
    "                 max_rounds = 10000, \n",
    "                 strategy_list = [defect, tit_for_tat, generous_tit_for_tat, cooperate], \n",
    "                 payoff_functions = default_payoff_functions, \n",
    "                 surveillance_penalty = True,\n",
    "                 self_reward = selfreward, #default function\n",
    "                 playing_each_other = True,\n",
    "                 nr_strategy_changes = 10,\n",
    "                 mutation_rate = 0.1,\n",
    "                 init_fitnes_as_m = False,\n",
    "                 noise = 0.05,\n",
    "                 )\n",
    "draw_stack(tour)\n",
    "C_D_ratios_per_round_var(tour, constant = 1)\n",
    "outliers = count_outliers(tour, constants = np.arange(0.5, 3.1, 0.1))\n",
    "data = {'S.D.': list(outliers.keys()), 'Counts': list(outliers.values())}\n",
    "df = pd.DataFrame.from_dict(data)\n",
    "print(df)\n",
    "df.to_csv(\"data/outliers/\" + str(seed) + \"_outlier_counts.csv\", encoding='utf-8', index = False, float_format='%.1f')\n",
    "save_tournament_csv(tour, seed = str(seed))"
   ]
  },
  {
   "cell_type": "code",
   "execution_count": null,
   "metadata": {},
   "outputs": [],
   "source": []
  }
 ],
 "metadata": {
  "kernelspec": {
   "display_name": "Python 3",
   "language": "python",
   "name": "python3"
  },
  "language_info": {
   "codemirror_mode": {
    "name": "ipython",
    "version": 3
   },
   "file_extension": ".py",
   "mimetype": "text/x-python",
   "name": "python",
   "nbconvert_exporter": "python",
   "pygments_lexer": "ipython3",
   "version": "3.6.5"
  }
 },
 "nbformat": 4,
 "nbformat_minor": 2
}
