{
 "cells": [
  {
   "cell_type": "code",
   "execution_count": 1,
   "metadata": {},
   "outputs": [
    {
     "data": {
      "text/html": [
       "<style>.container { width:90% !important; }</style>"
      ],
      "text/plain": [
       "<IPython.core.display.HTML object>"
      ]
     },
     "metadata": {},
     "output_type": "display_data"
    }
   ],
   "source": [
    "import sys\n",
    "sys.path.insert(1, '../')\n",
    "from heterogenous_game_theory import *\n",
    "import numpy as np\n",
    "import matplotlib.pyplot as plt\n",
    "import scipy as sp\n",
    "%matplotlib inline\n",
    "from IPython.core.display import display, HTML\n",
    "display(HTML(\"<style>.container { width:90% !important; }</style>\"))\n",
    "plt.style.use('fivethirtyeight')\n",
    "seed = 19\n",
    "np.random.seed(seed)"
   ]
  },
  {
   "cell_type": "code",
   "execution_count": 2,
   "metadata": {},
   "outputs": [
    {
     "name": "stdout",
     "output_type": "stream",
     "text": [
      "AGENT PARAMETERS IN POPULATION\n",
      "-------------------------------------\n",
      "   M \t\t  E \t\t  I\n",
      "-------------------------------------\n",
      "| 10 \t\t 0.3 \t\t 0.3 |\n",
      "| 10 \t\t 0.3 \t\t 0.3 |\n",
      "| 10 \t\t 0.3 \t\t 0.3 |\n",
      "| 10 \t\t 0.3 \t\t 0.3 |\n",
      "| 10 \t\t 0.3 \t\t 0.3 |\n",
      "| 10 \t\t 0.3 \t\t 0.3 |\n",
      "| 10 \t\t 0.3 \t\t 0.3 |\n",
      "| 10 \t\t 0.3 \t\t 0.3 |\n",
      "| 10 \t\t 0.3 \t\t 0.3 |\n",
      "| 10 \t\t 0.3 \t\t 0.3 |\n",
      "| 10 \t\t 0.3 \t\t 0.3 |\n",
      "| 10 \t\t 0.3 \t\t 0.3 |\n",
      "| 10 \t\t 0.3 \t\t 0.3 |\n",
      "| 10 \t\t 0.3 \t\t 0.3 |\n",
      "| 10 \t\t 0.3 \t\t 0.3 |\n",
      "| 10 \t\t 0.3 \t\t 0.3 |\n",
      "| 10 \t\t 0.3 \t\t 0.3 |\n",
      "| 10 \t\t 0.3 \t\t 0.3 |\n",
      "| 10 \t\t 0.3 \t\t 0.3 |\n",
      "-------------------------------------\n",
      "The s.d. of M is: 0.0\n",
      "The s.d. of E is: 0.0\n",
      "The s.d. of I is: 0.0\n",
      "-------------------------------------\n",
      "The mean of M is: 10\n",
      "The mean of E is: 0.3\n",
      "The mean of I is: 0.3\n",
      "-------------------------------------\n"
     ]
    },
    {
     "data": {
      "image/png": "[encoded data removed]",
      "text/plain": [
       "<Figure size 2160x720 with 3 Axes>"
      ]
     },
     "metadata": {
      "needs_background": "light"
     },
     "output_type": "display_data"
    },
    {
     "name": "stdout",
     "output_type": "stream",
     "text": [
      "____________________________________________________________________________________________________\n",
      "Agent 0 playing Agent 1: Reward: 3.0, Temptation: 3.9, Sucker: 0, Punishment: 0.9\n",
      "Agent 1 playing Agent 0: Reward: 3.0, Temptation: 3.9, Sucker: 0, Punishment: 0.9\n",
      "____________________________________________________________________________________________________\n",
      "____________________________________________________________________________________________________\n",
      "Agent 0 playing Agent 2: Reward: 3.0, Temptation: 3.9, Sucker: 0, Punishment: 0.9\n",
      "Agent 2 playing Agent 0: Reward: 3.0, Temptation: 3.9, Sucker: 0, Punishment: 0.9\n",
      "____________________________________________________________________________________________________\n",
      "____________________________________________________________________________________________________\n",
      "Agent 0 playing Agent 3: Reward: 3.0, Temptation: 3.9, Sucker: 0, Punishment: 0.9\n",
      "Agent 3 playing Agent 0: Reward: 3.0, Temptation: 3.9, Sucker: 0, Punishment: 0.9\n",
      "____________________________________________________________________________________________________\n",
      "____________________________________________________________________________________________________\n",
      "Agent 0 playing Agent 4: Reward: 3.0, Temptation: 3.9, Sucker: 0, Punishment: 0.9\n",
      "Agent 4 playing Agent 0: Reward: 3.0, Temptation: 3.9, Sucker: 0, Punishment: 0.9\n",
      "____________________________________________________________________________________________________\n",
      "____________________________________________________________________________________________________\n",
      "Agent 1 playing Agent 2: Reward: 3.0, Temptation: 3.9, Sucker: 0, Punishment: 0.9\n",
      "Agent 2 playing Agent 1: Reward: 3.0, Temptation: 3.9, Sucker: 0, Punishment: 0.9\n",
      "____________________________________________________________________________________________________\n",
      "____________________________________________________________________________________________________\n",
      "Agent 1 playing Agent 3: Reward: 3.0, Temptation: 3.9, Sucker: 0, Punishment: 0.9\n",
      "Agent 3 playing Agent 1: Reward: 3.0, Temptation: 3.9, Sucker: 0, Punishment: 0.9\n",
      "____________________________________________________________________________________________________\n",
      "____________________________________________________________________________________________________\n",
      "Agent 1 playing Agent 4: Reward: 3.0, Temptation: 3.9, Sucker: 0, Punishment: 0.9\n",
      "Agent 4 playing Agent 1: Reward: 3.0, Temptation: 3.9, Sucker: 0, Punishment: 0.9\n",
      "____________________________________________________________________________________________________\n",
      "____________________________________________________________________________________________________\n",
      "Agent 2 playing Agent 3: Reward: 3.0, Temptation: 3.9, Sucker: 0, Punishment: 0.9\n",
      "Agent 3 playing Agent 2: Reward: 3.0, Temptation: 3.9, Sucker: 0, Punishment: 0.9\n",
      "____________________________________________________________________________________________________\n",
      "____________________________________________________________________________________________________\n",
      "Agent 2 playing Agent 4: Reward: 3.0, Temptation: 3.9, Sucker: 0, Punishment: 0.9\n",
      "Agent 4 playing Agent 2: Reward: 3.0, Temptation: 3.9, Sucker: 0, Punishment: 0.9\n",
      "____________________________________________________________________________________________________\n",
      "____________________________________________________________________________________________________\n",
      "Agent 3 playing Agent 4: Reward: 3.0, Temptation: 3.9, Sucker: 0, Punishment: 0.9\n",
      "Agent 4 playing Agent 3: Reward: 3.0, Temptation: 3.9, Sucker: 0, Punishment: 0.9\n",
      "____________________________________________________________________________________________________\n"
     ]
    }
   ],
   "source": [
    "agents = get_agents(homogenous = True)\n",
    "check_parameters(agents)\n",
    "compare_payoff_function(agents, default_payoff_functions)"
   ]
  },
  {
   "cell_type": "code",
   "execution_count": null,
   "metadata": {},
   "outputs": [
    {
     "name": "stdout",
     "output_type": "stream",
     "text": [
      "Tournament has started...\n",
      "\\"
     ]
    }
   ],
   "source": [
    "tour = Tournament.create_play_tournament(\n",
    "                 agents = agents, \n",
    "                 max_rounds = 10000, \n",
    "                 strategy_list = [defect, tit_for_tat, generous_tit_for_tat, cooperate], \n",
    "                 payoff_functions = default_payoff_functions, \n",
    "                 surveillance_penalty = True,\n",
    "                 self_reward = selfreward, #default function\n",
    "                 playing_each_other = True,\n",
    "                 nr_strategy_changes = 10,\n",
    "                 mutation_rate = 0.1,\n",
    "                 init_fitnes_as_m = False,\n",
    "                 noise = 0.05,\n",
    "                 )\n",
    "draw_stack(tour)\n",
    "C_D_ratios_per_round_var(tour, constant = 1)\n",
    "outliers = count_outliers(tour, constants = np.arange(0.5, 3.1, 0.1))\n",
    "data = {'S.D.': list(outliers.keys()), 'Counts': list(outliers.values())}\n",
    "df = pd.DataFrame.from_dict(data)\n",
    "print(df)\n",
    "df.to_csv(\"data/outliers/\" + str(seed) + \"_outlier_counts.csv\", encoding='utf-8', index = False, float_format='%.1f')\n",
    "save_tournament_csv(tour, seed = str(seed))"
   ]
  }
 ],
 "metadata": {
  "kernelspec": {
   "display_name": "Python 3",
   "language": "python",
   "name": "python3"
  },
  "language_info": {
   "codemirror_mode": {
    "name": "ipython",
    "version": 3
   },
   "file_extension": ".py",
   "mimetype": "text/x-python",
   "name": "python",
   "nbconvert_exporter": "python",
   "pygments_lexer": "ipython3",
   "version": "3.7.4"
  }
 },
 "nbformat": 4,
 "nbformat_minor": 2
}
